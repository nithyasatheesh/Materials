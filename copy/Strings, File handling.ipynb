{
 "cells": [
  {
   "cell_type": "markdown",
   "id": "6d754ad7",
   "metadata": {},
   "source": [
    "### String Objects\n",
    "\n",
    "- Overview of String Objects\n",
    "\n",
    "- common string methods\n",
    "\n",
    "- Formating strings\n",
    "\n",
    "- Splitting and joining"
   ]
  },
  {
   "cell_type": "markdown",
   "id": "0221b6f2",
   "metadata": {},
   "source": [
    "### File handling\n",
    "\n",
    "- Opening files\n",
    "- Text vs Binary mode\n",
    "- Text and Binary files"
   ]
  },
  {
   "cell_type": "markdown",
   "id": "b904d4a8",
   "metadata": {},
   "source": [
    "Python string is a sequence of Unicode characters that is enclosed in the quotations marks"
   ]
  },
  {
   "cell_type": "code",
   "execution_count": null,
   "id": "d8d497d5",
   "metadata": {},
   "outputs": [],
   "source": [
    "##### Case Changing of Strings\n",
    "The below functions are used to change the case of the strings.\n",
    "\n",
    "lower(): Converts all uppercase characters in a string into lowercase\n",
    "upper(): Converts all lowercase characters in a string into uppercase\n",
    "title(): Convert string to title case"
   ]
  },
  {
   "cell_type": "code",
   "execution_count": null,
   "id": "947157fe",
   "metadata": {},
   "outputs": [],
   "source": []
  },
  {
   "cell_type": "markdown",
   "id": "f0d64a17",
   "metadata": {},
   "source": [
    "### string capitalize() in Python\n",
    "the capitalize() method returns a copy of the original string and converts the first character of the string to a capital (uppercase) letter while making all other characters in the string lowercase letters.\n",
    "string_name.capitalize() "
   ]
  },
  {
   "cell_type": "code",
   "execution_count": null,
   "id": "d4a3133f",
   "metadata": {},
   "outputs": [],
   "source": []
  },
  {
   "cell_type": "markdown",
   "id": "9bfc542c",
   "metadata": {},
   "source": [
    "#### Python String count() Method\n",
    "String count() function is an inbuilt function in python programming language that returns the number of occurrences of a substring in the given string.\n",
    "\n",
    "Syntax: \n",
    "\n",
    "string.count(substring, start=…, end=…)"
   ]
  },
  {
   "cell_type": "code",
   "execution_count": null,
   "id": "cc856743",
   "metadata": {},
   "outputs": [],
   "source": []
  },
  {
   "cell_type": "markdown",
   "id": "5107b0b6",
   "metadata": {},
   "source": [
    " #### Implementation of the count() method using optional parameters\n",
    "counts the number of times substring occurs in \n",
    "\n",
    "the given string between index 0 and 5 and returns an integer\n",
    "\n",
    "print(string.count(\"all\", 0, 5))"
   ]
  },
  {
   "cell_type": "markdown",
   "id": "915877b9",
   "metadata": {},
   "source": [
    "#### Python String endswith() Method\n",
    "\n",
    "Python String endswith() method returns True if a string ends with the given suffix otherwise returns False.\n",
    "\n",
    "Syntax:\n",
    "\n",
    "str.endswith(suffix, start, end)"
   ]
  },
  {
   "cell_type": "code",
   "execution_count": null,
   "id": "2fa89fdd",
   "metadata": {},
   "outputs": [],
   "source": []
  },
  {
   "cell_type": "code",
   "execution_count": null,
   "id": "e536591e",
   "metadata": {},
   "outputs": [],
   "source": []
  },
  {
   "cell_type": "markdown",
   "id": "1255bd76",
   "metadata": {},
   "source": [
    "#### Python String isdigit() Method\n",
    "The isdigit() method returns “True” if all characters in the string are digits, Otherwise, It returns “False”. This function is used to check if the argument contains digits such as 0123456789"
   ]
  },
  {
   "cell_type": "code",
   "execution_count": null,
   "id": "3438611d",
   "metadata": {},
   "outputs": [],
   "source": [
    "# checking for digit\n"
   ]
  },
  {
   "cell_type": "markdown",
   "id": "9ecc8b29",
   "metadata": {},
   "source": [
    "#### Python String isnumeric() Method\n",
    "The isnumeric() method returns “True” if all characters in the string are numeric characters, Otherwise, It returns “False”."
   ]
  },
  {
   "cell_type": "code",
   "execution_count": null,
   "id": "ee905d38",
   "metadata": {},
   "outputs": [],
   "source": [
    "### checking for numeric characters\n",
    "string = '123ayu456'\n",
    "  \n",
    "string = '123456'\n"
   ]
  },
  {
   "cell_type": "markdown",
   "id": "09d79fbb",
   "metadata": {},
   "source": [
    "#### Python string | swapcase()\n",
    "The string swapcase() method converts all uppercase characters to lowercase and vice versa of the given string, and returns it"
   ]
  },
  {
   "cell_type": "code",
   "execution_count": null,
   "id": "7e2bdf71",
   "metadata": {},
   "outputs": [],
   "source": [
    "string = \"jigSaw\"\n",
    "  \n",
    "# prints after swappong all cases\n",
    "  \n",
    "string = \"striver\" \n"
   ]
  },
  {
   "cell_type": "markdown",
   "id": "5b71f37d",
   "metadata": {},
   "source": [
    "### String formatting in Python"
   ]
  },
  {
   "cell_type": "markdown",
   "id": "517fc2c5",
   "metadata": {},
   "source": [
    "Formatting with format() string method.\n",
    "Formatting with string literals, called f-strings"
   ]
  },
  {
   "cell_type": "code",
   "execution_count": null,
   "id": "6c2f8ddf",
   "metadata": {},
   "outputs": [],
   "source": [
    "# Formatting string using format() method\n",
    "print('We all are {}.'.format('equal'))"
   ]
  },
  {
   "cell_type": "code",
   "execution_count": null,
   "id": "d8e8fab8",
   "metadata": {},
   "outputs": [],
   "source": [
    "print('{2} {1} {0}'.format('directions',\n",
    "                           'the', 'Read'))"
   ]
  },
  {
   "cell_type": "code",
   "execution_count": null,
   "id": "8acd1131",
   "metadata": {},
   "outputs": [],
   "source": [
    "# Formatted String using F-strings\n",
    "name = 'Ele'\n",
    " "
   ]
  },
  {
   "cell_type": "code",
   "execution_count": null,
   "id": "fe34b354",
   "metadata": {},
   "outputs": [],
   "source": [
    "a = 5\n",
    "b = 10\n",
    " \n"
   ]
  },
  {
   "cell_type": "markdown",
   "id": "54ef0828",
   "metadata": {},
   "source": [
    "### Splitting and Joining"
   ]
  },
  {
   "cell_type": "markdown",
   "id": "f0cc2837",
   "metadata": {},
   "source": [
    "we can use the function split() to split a string and join() to join a string. the split() method in Python split a string into a list of strings after breaking the given string by the specified separator. Python String join() method is a string method and returns a string in which the elements of the sequence have been joined by the str separator. "
   ]
  },
  {
   "cell_type": "code",
   "execution_count": null,
   "id": "bbaf7091",
   "metadata": {},
   "outputs": [],
   "source": [
    "# input string\n",
    "s = 'Welcome to our Country'\n",
    "# print the string after split method\n",
    "\n",
    "# print the string after join method\n",
    " "
   ]
  },
  {
   "cell_type": "markdown",
   "id": "ac386fa1",
   "metadata": {},
   "source": [
    "### File handling"
   ]
  },
  {
   "cell_type": "code",
   "execution_count": null,
   "id": "3fda30df",
   "metadata": {},
   "outputs": [],
   "source": [
    "## Opening files in Python\n",
    "# open() \n",
    "                      # open file in current directory , read mode\n"
   ]
  },
  {
   "cell_type": "markdown",
   "id": "b3c2eb2d",
   "metadata": {},
   "source": [
    "Mode\n",
    "\n",
    "r opens a file for reading\n",
    "\n",
    "w opens a file for writing\n",
    "\n",
    "a opens a file for appending at the end of the file\n",
    "\n",
    "t opens in text mode\n",
    "\n",
    "b opens in binary mode"
   ]
  },
  {
   "cell_type": "code",
   "execution_count": null,
   "id": "3721f2c0",
   "metadata": {},
   "outputs": [],
   "source": []
  },
  {
   "cell_type": "code",
   "execution_count": null,
   "id": "a5fe1511",
   "metadata": {},
   "outputs": [],
   "source": []
  },
  {
   "cell_type": "code",
   "execution_count": null,
   "id": "d5dc6005",
   "metadata": {},
   "outputs": [],
   "source": []
  },
  {
   "cell_type": "code",
   "execution_count": null,
   "id": "cf5f8c1c",
   "metadata": {},
   "outputs": [],
   "source": []
  },
  {
   "cell_type": "code",
   "execution_count": null,
   "id": "ab234551",
   "metadata": {},
   "outputs": [],
   "source": []
  },
  {
   "cell_type": "code",
   "execution_count": null,
   "id": "f7cb8236",
   "metadata": {},
   "outputs": [],
   "source": []
  },
  {
   "cell_type": "code",
   "execution_count": null,
   "id": "8dc69fe2",
   "metadata": {},
   "outputs": [],
   "source": []
  },
  {
   "cell_type": "markdown",
   "id": "a3fb8c35",
   "metadata": {},
   "source": [
    "read() – read all text from a file into a string. This method is useful if you have a small file and            you want to manipulate the whole text of that file.\n",
    "readline() – read the text file line by line and return all the lines as strings.\n",
    "readlines() – read all the lines of the text file and return them as a list of strings."
   ]
  },
  {
   "cell_type": "code",
   "execution_count": null,
   "id": "f056abb0",
   "metadata": {},
   "outputs": [],
   "source": []
  },
  {
   "cell_type": "code",
   "execution_count": null,
   "id": "4c4935ad",
   "metadata": {},
   "outputs": [],
   "source": []
  },
  {
   "cell_type": "markdown",
   "id": "8d6017b0",
   "metadata": {},
   "source": [
    "#### Text vs Binary files"
   ]
  },
  {
   "cell_type": "markdown",
   "id": "22f1a599",
   "metadata": {},
   "source": [
    "\"Binary\" files are any files where the format isn't made up of readable characters. Binary files can range from image files like JPEGs or GIFs, audio files like MP3s or binary document formats like Word or PDF. In Python, files are opened in text mode by default. To open files in binary mode, when specifying a mode, add 'b' to it."
   ]
  },
  {
   "cell_type": "code",
   "execution_count": null,
   "id": "939a095b",
   "metadata": {},
   "outputs": [],
   "source": []
  },
  {
   "cell_type": "code",
   "execution_count": null,
   "id": "775ecc62",
   "metadata": {},
   "outputs": [],
   "source": []
  },
  {
   "cell_type": "code",
   "execution_count": null,
   "id": "74cda939",
   "metadata": {},
   "outputs": [],
   "source": []
  },
  {
   "cell_type": "code",
   "execution_count": null,
   "id": "e4011a8f",
   "metadata": {},
   "outputs": [],
   "source": []
  },
  {
   "cell_type": "code",
   "execution_count": null,
   "id": "9bc676a6",
   "metadata": {},
   "outputs": [],
   "source": []
  },
  {
   "cell_type": "markdown",
   "id": "069d1541",
   "metadata": {},
   "source": [
    "------------------------------------------ end -------------------------------------------------"
   ]
  }
 ],
 "metadata": {
  "kernelspec": {
   "display_name": "Python 3 (ipykernel)",
   "language": "python",
   "name": "python3"
  },
  "language_info": {
   "codemirror_mode": {
    "name": "ipython",
    "version": 3
   },
   "file_extension": ".py",
   "mimetype": "text/x-python",
   "name": "python",
   "nbconvert_exporter": "python",
   "pygments_lexer": "ipython3",
   "version": "3.9.7"
  }
 },
 "nbformat": 4,
 "nbformat_minor": 5
}
